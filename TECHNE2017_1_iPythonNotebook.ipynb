{
 "cells": [
  {
   "cell_type": "markdown",
   "metadata": {},
   "source": [
    "##### Data-Mining the Audio of Oral History - TECHNE workshop Mar 2017\n",
    "\n",
    "# 1: Tools of the trade\n",
    "\n",
    "\n",
    "## Python\n",
    "\n",
    "[Python](https://python.org/) is a general-purpose programming language that is human readable, even for non-programmers and increasingly popular. You do not need to become a programmer for this workshop, but if  you want to learn more [The Python Tutorial](https://docs.python.org/2/tutorial/index.html) is an excellent starting point.\n",
    "\n",
    "\n",
    "\n",
    "## IPython Notebook\n",
    "You are looking at an **IPython Notebook**. This is an interactive Python shell inside of a web browser.\n",
    "\n",
    "This enables us to write code, run it and see - and hear - outputs all in the browser. This is great for working with audio as we can quickly visualise and audition our working process. \n",
    "\n",
    "### Cells\n",
    "An IPython Notebook is comprised of cells. Cells are just small units of code or text. For example, the text that you are reading is inside a *Markdown* cell. \n",
    "\n",
    "Code cells allow you to edit, execute, and analyze small portions of Python code at a time. \n",
    "\n",
    "Below is a code cell\n",
    "If you click inside it, so that a green line appears around it, then press the 'play' button in the top menu (we'll learn the keyboard shortcut below), the code in the cell will be evaluated, and the result printed as output.\n",
    "\n",
    "**Q1**: Try changing the numbers or operator (+ - * / etc) to produce '5' and evaluate it again\n",
    "\n",
    "**Q2**: Add another cell using the \"+\" sign in the top menu. Create a sum using three digits which equals 12.\n"
   ]
  },
  {
   "cell_type": "code",
   "execution_count": 1,
   "metadata": {
    "collapsed": false
   },
   "outputs": [
    {
     "data": {
      "text/plain": [
       "2"
      ]
     },
     "execution_count": 1,
     "metadata": {},
     "output_type": "execute_result"
    }
   ],
   "source": [
    "1+1"
   ]
  },
  {
   "cell_type": "markdown",
   "metadata": {},
   "source": [
    "### Comments\n",
    "Inside a code cell, we can write comments to explain what the code does. These are preceded by a hash sign which tells the interpretter not to read it as code"
   ]
  },
  {
   "cell_type": "code",
   "execution_count": null,
   "metadata": {
    "collapsed": false
   },
   "outputs": [],
   "source": [
    "# this is a comment\n",
    "# this sum won't be evaluated\n",
    "# 1 + 1\n",
    "# but this one will:\n",
    "\n",
    "1+2\n"
   ]
  },
  {
   "cell_type": "markdown",
   "metadata": {},
   "source": [
    "\n",
    "### Modes\n",
    "\n",
    "The IPython Notebook has two different keyboard input ***modes***.\n",
    "\n",
    "In **Edit Mode**, you type code/text into a cell. Edit Mode is indicated by a green cell border (you just did this above)\n",
    "\n",
    "To enter Edit Mode from Command Mode, press Enter. You can also double-click on a cell.\n",
    "\n",
    "To execute the code inside of a cell and move to the next cell, click the play button above or press Shift-Enter. (Ctrl-Enter will run the current cell without moving to the next cell. This is useful for rapidly tweaking the current cell.)\n",
    "\n",
    "In **Command Mode**, you can perform notebook level actions such as navigating among cells, selecting cells, moving cells, saving notebooks, displaying help. Command Mode is indicated by a grey cell border.\n",
    "\n",
    "To enter Command Mode from Edit Mode, press Esc. Other commands can also enter Command Mode, e.g. Shift-Enter.\n"
   ]
  },
  {
   "cell_type": "markdown",
   "metadata": {},
   "source": [
    "\n",
    "### Saving\n",
    "\n",
    "To save your changes, click on the \"Save\" icon in the menu bar, or type s in command mode."
   ]
  },
  {
   "cell_type": "markdown",
   "metadata": {},
   "source": [
    "## Getting Help \n",
    "\n",
    "To display the notebook Help Menu from Command Mode, press h. Use it often; h is your friend.\n",
    "\n",
    "### Tab Autocompletion\n",
    "\n",
    "Inside a code cell, in edit mode, type a few letters. When you press the Tab key, a popup will appear and show you all of the possible completions, including variable names and functions. This prevents you from mistyping the names of variables as well as browsing methods available in certain libraries."
   ]
  },
  {
   "cell_type": "markdown",
   "metadata": {},
   "source": [
    "First let's load some libraries - just as a library of books contains a bunch of useful information, code libraries contain a sets of useful functions. We load them using the keyword \"import\""
   ]
  },
  {
   "cell_type": "code",
   "execution_count": 5,
   "metadata": {
    "collapsed": true
   },
   "outputs": [],
   "source": [
    "# run this cell by hitting shift-return\n",
    "import  numpy, scipy, librosa"
   ]
  },
  {
   "cell_type": "markdown",
   "metadata": {},
   "source": [
    "This loads a whole bunch of functions which will be realy useful to us later on:\n",
    "\n",
    "numpy and scipy are the core package for scientific computing in python. They enables us to load up and work with large databases and contains lots of useful mathematical tools. librosa is an audio library which contains methods for working with audio.\n",
    "\n",
    "We can look around in these libraries by pressing the \"tab\" key to autocomplete - this is like navigating down through folders in finder/ windows explorer.\n",
    "\n",
    "Try typing \"scipy.\" and then press tab key. You should see a list of the contents of -- all the members --  in the Python package scipy.\n",
    "\n",
    "Or type \"scipy.sin\", then press Tab to view members that begin with sin.\n",
    "\n"
   ]
  },
  {
   "cell_type": "code",
   "execution_count": 7,
   "metadata": {
    "collapsed": false
   },
   "outputs": [
    {
     "data": {
      "text/plain": [
       "<ufunc 'sin'>"
      ]
     },
     "execution_count": 7,
     "metadata": {},
     "output_type": "execute_result"
    }
   ],
   "source": [
    "# Press Tab at the end of the following line\n",
    "numpy.sin"
   ]
  },
  {
   "cell_type": "markdown",
   "metadata": {},
   "source": [
    "### Inline Documentation\n",
    "\n",
    "To get help on a certain Python object, type \"?\" after the object name, and run the cell:\n"
   ]
  },
  {
   "cell_type": "code",
   "execution_count": 3,
   "metadata": {
    "collapsed": true
   },
   "outputs": [],
   "source": [
    "# Run this cell to view the info file for int - a common data type.\n",
    "int?"
   ]
  },
  {
   "cell_type": "markdown",
   "metadata": {
    "collapsed": true
   },
   "source": [
    "# Exercise\n",
    "\n",
    "Libraries are usually arranged in sensible hierarchical groups - much like the folder structure on a computer. All the audio effects in librosa are filed under **librosa.effects.\\* **  (where '\\*' is the name of the effect.)\n",
    "\n",
    "Use the autocomplete (tab key) to browse the librosa library (which we'll be using later) to find the answers to the following:\n",
    "\n",
    "**Q1.** How many effects are there in librosa?\n",
    "\n",
    "**Q2.** Now navigate to features - how many types of spectral *feature* are there in librosa?"
   ]
  },
  {
   "cell_type": "code",
   "execution_count": null,
   "metadata": {
    "collapsed": true
   },
   "outputs": [],
   "source": []
  }
 ],
 "metadata": {
  "kernelspec": {
   "display_name": "Python 2",
   "language": "python",
   "name": "python2"
  },
  "language_info": {
   "codemirror_mode": {
    "name": "ipython",
    "version": 2
   },
   "file_extension": ".py",
   "mimetype": "text/x-python",
   "name": "python",
   "nbconvert_exporter": "python",
   "pygments_lexer": "ipython2",
   "version": "2.7.10"
  }
 },
 "nbformat": 4,
 "nbformat_minor": 0
}
